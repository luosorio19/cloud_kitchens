{
 "cells": [
  {
   "cell_type": "markdown",
   "metadata": {},
   "source": [
    "## Imports"
   ]
  },
  {
   "cell_type": "code",
   "execution_count": null,
   "metadata": {},
   "outputs": [],
   "source": [
    "#!pip install db-dtypes google google-cloud google-cloud-bigquery google-auth"
   ]
  },
  {
   "cell_type": "code",
   "execution_count": 1,
   "metadata": {},
   "outputs": [],
   "source": [
    "import pandas as pd\n",
    "import numpy as np\n",
    "import math\n",
    "from google.cloud import bigquery\n",
    "from google.oauth2 import service_account\n",
    "import json\n",
    "import datetime\n",
    "from datetime import datetime"
   ]
  },
  {
   "cell_type": "markdown",
   "metadata": {},
   "source": [
    "## Data Load"
   ]
  },
  {
   "cell_type": "code",
   "execution_count": 2,
   "metadata": {},
   "outputs": [],
   "source": [
    "with open('ck-case-study-c83094e812a0.json', 'r') as json_file:\n",
    "    data = json.load(json_file)"
   ]
  },
  {
   "cell_type": "code",
   "execution_count": 3,
   "metadata": {},
   "outputs": [],
   "source": [
    "def read_bigquery_data(query,data):\n",
    "    # Create a BigQuery client instance\n",
    "    credentials = service_account.Credentials.from_service_account_info(data)\n",
    "    client = bigquery.Client(credentials=credentials)\n",
    "\n",
    "    # Execute the query and retrieve the results as a pandas DataFrame\n",
    "    query_job = client.query(query)\n",
    "    dataframe = query_job.to_dataframe()\n",
    "\n",
    "    return dataframe"
   ]
  },
  {
   "cell_type": "code",
   "execution_count": 4,
   "metadata": {},
   "outputs": [],
   "source": [
    "query_orders='''SELECT * FROM `ck-case-study.ck_us_can_case_studies.order_data`'''\n",
    "\n",
    "query_labor = '''SELECT * FROM `ck-case-study.ck_us_can_case_studies.labor_hours`'''\n",
    "\n",
    "df_orders = read_bigquery_data(query_orders,data)\n",
    "df_labor = read_bigquery_data(query_labor,data)"
   ]
  },
  {
   "cell_type": "code",
   "execution_count": 5,
   "metadata": {},
   "outputs": [],
   "source": [
    "df_orders.to_csv('data_orders.csv', index=False)\n",
    "df_labor.to_csv('data_labor.csv', index=False)"
   ]
  },
  {
   "cell_type": "markdown",
   "metadata": {},
   "source": [
    "## Cleaning"
   ]
  },
  {
   "cell_type": "code",
   "execution_count": 2,
   "metadata": {},
   "outputs": [],
   "source": [
    "data_orders = pd.read_csv('data_orders.csv')\n",
    "\n",
    "data_orders = data_orders.rename(columns=lambda x: x.lower())\n",
    "data_orders[\"date\"] = pd.to_datetime(data_orders[\"date\"],format=\"%Y-%m-%d\")"
   ]
  },
  {
   "cell_type": "code",
   "execution_count": 3,
   "metadata": {},
   "outputs": [
    {
     "data": {
      "text/plain": [
       "count                         50000\n",
       "mean     2023-08-19 23:00:24.768000\n",
       "min             2023-08-01 00:00:00\n",
       "25%             2023-08-11 00:00:00\n",
       "50%             2023-08-20 00:00:00\n",
       "75%             2023-08-29 00:00:00\n",
       "max             2023-09-08 00:00:00\n",
       "Name: date, dtype: object"
      ]
     },
     "execution_count": 3,
     "metadata": {},
     "output_type": "execute_result"
    }
   ],
   "source": [
    "# We only have data for August and a few days of September 2023\n",
    "data_orders.date.describe()"
   ]
  },
  {
   "cell_type": "code",
   "execution_count": 4,
   "metadata": {},
   "outputs": [
    {
     "data": {
      "text/plain": [
       "(50000, 9)"
      ]
     },
     "execution_count": 4,
     "metadata": {},
     "output_type": "execute_result"
    }
   ],
   "source": [
    "data_orders.shape"
   ]
  },
  {
   "cell_type": "code",
   "execution_count": 5,
   "metadata": {},
   "outputs": [],
   "source": [
    "# we remove duplicate values and Na values\n",
    "data_orders.drop_duplicates(keep ='last', inplace = True)\n",
    "data_orders.dropna(inplace = True)"
   ]
  },
  {
   "cell_type": "code",
   "execution_count": 6,
   "metadata": {},
   "outputs": [
    {
     "data": {
      "text/plain": [
       "(46546, 9)"
      ]
     },
     "execution_count": 6,
     "metadata": {},
     "output_type": "execute_result"
    }
   ],
   "source": [
    "data_orders.shape"
   ]
  },
  {
   "cell_type": "code",
   "execution_count": 7,
   "metadata": {},
   "outputs": [
    {
     "data": {
      "text/plain": [
       "facility\n",
       "NA-US-NG-OTT-Tempe (Kitchens) (correct)    1402\n",
       "NA-US-OD-5th (correct)                      234\n",
       "Name: count, dtype: int64"
      ]
     },
     "execution_count": 7,
     "metadata": {},
     "output_type": "execute_result"
    }
   ],
   "source": [
    "# one restaurant can be in several facilities\n",
    "data_orders.loc[data_orders['organization_name']=='witty piano']['facility'].value_counts()"
   ]
  },
  {
   "cell_type": "code",
   "execution_count": 8,
   "metadata": {},
   "outputs": [
    {
     "data": {
      "text/plain": [
       "(45976, 9)"
      ]
     },
     "execution_count": 8,
     "metadata": {},
     "output_type": "execute_result"
    }
   ],
   "source": [
    "# We remove all rows with a number of orders>0 but gmv=0 since it does not make sense \n",
    "data_orders = data_orders.loc[(data_orders['orders']>0)&(data_orders['gmv']>0)]\n",
    "data_orders.shape"
   ]
  },
  {
   "cell_type": "code",
   "execution_count": 9,
   "metadata": {},
   "outputs": [],
   "source": [
    "data_orders['week'] = data_orders['date'] - pd.to_timedelta(data_orders['date'].dt.dayofweek, unit='d')\n",
    "data_orders['month'] = data_orders['date'].dt.to_period('M').dt.to_timestamp()"
   ]
  },
  {
   "cell_type": "code",
   "execution_count": 10,
   "metadata": {},
   "outputs": [],
   "source": [
    "data_orders.to_csv('data_orders_clean.csv', index=False)"
   ]
  },
  {
   "cell_type": "code",
   "execution_count": 11,
   "metadata": {},
   "outputs": [
    {
     "data": {
      "text/plain": [
       "(3312, 8)"
      ]
     },
     "execution_count": 11,
     "metadata": {},
     "output_type": "execute_result"
    }
   ],
   "source": [
    "#We group the data by day since there are several rows duplicated by day that come from the same facility and restaurant\n",
    "data_orders_grouped = data_orders.groupby(['date','facility','facility_id',\n",
    "                                'organization_name','subregion'])[['gmv','orders','gmv_minus_discount']].sum().reset_index()\n",
    "\n",
    "data_orders_grouped.shape"
   ]
  },
  {
   "cell_type": "code",
   "execution_count": 12,
   "metadata": {},
   "outputs": [],
   "source": [
    "data_orders_grouped['week'] = data_orders_grouped['date'] - pd.to_timedelta(data_orders_grouped['date'].dt.dayofweek, unit='d')\n",
    "data_orders_grouped['month'] = data_orders_grouped['date'].dt.to_period('M').dt.to_timestamp()"
   ]
  },
  {
   "cell_type": "code",
   "execution_count": 13,
   "metadata": {},
   "outputs": [],
   "source": [
    "data_orders_grouped.to_csv('data_orders_grouped.csv', index=False)"
   ]
  },
  {
   "cell_type": "code",
   "execution_count": 14,
   "metadata": {},
   "outputs": [
    {
     "data": {
      "text/html": [
       "<div>\n",
       "<style scoped>\n",
       "    .dataframe tbody tr th:only-of-type {\n",
       "        vertical-align: middle;\n",
       "    }\n",
       "\n",
       "    .dataframe tbody tr th {\n",
       "        vertical-align: top;\n",
       "    }\n",
       "\n",
       "    .dataframe thead th {\n",
       "        text-align: right;\n",
       "    }\n",
       "</style>\n",
       "<table border=\"1\" class=\"dataframe\">\n",
       "  <thead>\n",
       "    <tr style=\"text-align: right;\">\n",
       "      <th></th>\n",
       "      <th>date</th>\n",
       "      <th>facility</th>\n",
       "      <th>facility_id</th>\n",
       "      <th>organization_name</th>\n",
       "      <th>subregion</th>\n",
       "      <th>gmv</th>\n",
       "      <th>orders</th>\n",
       "      <th>gmv_minus_discount</th>\n",
       "      <th>week</th>\n",
       "      <th>month</th>\n",
       "    </tr>\n",
       "  </thead>\n",
       "  <tbody>\n",
       "    <tr>\n",
       "      <th>0</th>\n",
       "      <td>2023-08-01</td>\n",
       "      <td>NA-US-CA(N)-NH-Ruff (Kitchens)</td>\n",
       "      <td>905cbe43-327f-4d3e-a897-48ee81a64ade</td>\n",
       "      <td>abundant river</td>\n",
       "      <td>Northwest</td>\n",
       "      <td>1807.00</td>\n",
       "      <td>44</td>\n",
       "      <td>1722.11</td>\n",
       "      <td>2023-07-31</td>\n",
       "      <td>2023-08-01</td>\n",
       "    </tr>\n",
       "    <tr>\n",
       "      <th>1</th>\n",
       "      <td>2023-08-01</td>\n",
       "      <td>NA-US-CA(N)-NH-Ruff (Kitchens)</td>\n",
       "      <td>905cbe43-327f-4d3e-a897-48ee81a64ade</td>\n",
       "      <td>agile tiger</td>\n",
       "      <td>Northwest</td>\n",
       "      <td>33.99</td>\n",
       "      <td>1</td>\n",
       "      <td>33.99</td>\n",
       "      <td>2023-07-31</td>\n",
       "      <td>2023-08-01</td>\n",
       "    </tr>\n",
       "    <tr>\n",
       "      <th>2</th>\n",
       "      <td>2023-08-01</td>\n",
       "      <td>NA-US-CA(N)-NH-Ruff (Kitchens)</td>\n",
       "      <td>905cbe43-327f-4d3e-a897-48ee81a64ade</td>\n",
       "      <td>alluring dolphin</td>\n",
       "      <td>Northwest</td>\n",
       "      <td>1110.95</td>\n",
       "      <td>38</td>\n",
       "      <td>1104.95</td>\n",
       "      <td>2023-07-31</td>\n",
       "      <td>2023-08-01</td>\n",
       "    </tr>\n",
       "    <tr>\n",
       "      <th>3</th>\n",
       "      <td>2023-08-01</td>\n",
       "      <td>NA-US-CA(N)-NH-Ruff (Kitchens)</td>\n",
       "      <td>905cbe43-327f-4d3e-a897-48ee81a64ade</td>\n",
       "      <td>charming island</td>\n",
       "      <td>Northwest</td>\n",
       "      <td>30.00</td>\n",
       "      <td>1</td>\n",
       "      <td>30.00</td>\n",
       "      <td>2023-07-31</td>\n",
       "      <td>2023-08-01</td>\n",
       "    </tr>\n",
       "    <tr>\n",
       "      <th>4</th>\n",
       "      <td>2023-08-01</td>\n",
       "      <td>NA-US-CA(N)-NH-Ruff (Kitchens)</td>\n",
       "      <td>905cbe43-327f-4d3e-a897-48ee81a64ade</td>\n",
       "      <td>colorful kangaroo</td>\n",
       "      <td>Northwest</td>\n",
       "      <td>12.40</td>\n",
       "      <td>1</td>\n",
       "      <td>12.40</td>\n",
       "      <td>2023-07-31</td>\n",
       "      <td>2023-08-01</td>\n",
       "    </tr>\n",
       "  </tbody>\n",
       "</table>\n",
       "</div>"
      ],
      "text/plain": [
       "        date                        facility   \n",
       "0 2023-08-01  NA-US-CA(N)-NH-Ruff (Kitchens)  \\\n",
       "1 2023-08-01  NA-US-CA(N)-NH-Ruff (Kitchens)   \n",
       "2 2023-08-01  NA-US-CA(N)-NH-Ruff (Kitchens)   \n",
       "3 2023-08-01  NA-US-CA(N)-NH-Ruff (Kitchens)   \n",
       "4 2023-08-01  NA-US-CA(N)-NH-Ruff (Kitchens)   \n",
       "\n",
       "                            facility_id  organization_name  subregion   \n",
       "0  905cbe43-327f-4d3e-a897-48ee81a64ade     abundant river  Northwest  \\\n",
       "1  905cbe43-327f-4d3e-a897-48ee81a64ade        agile tiger  Northwest   \n",
       "2  905cbe43-327f-4d3e-a897-48ee81a64ade   alluring dolphin  Northwest   \n",
       "3  905cbe43-327f-4d3e-a897-48ee81a64ade    charming island  Northwest   \n",
       "4  905cbe43-327f-4d3e-a897-48ee81a64ade  colorful kangaroo  Northwest   \n",
       "\n",
       "       gmv  orders  gmv_minus_discount       week      month  \n",
       "0  1807.00      44             1722.11 2023-07-31 2023-08-01  \n",
       "1    33.99       1               33.99 2023-07-31 2023-08-01  \n",
       "2  1110.95      38             1104.95 2023-07-31 2023-08-01  \n",
       "3    30.00       1               30.00 2023-07-31 2023-08-01  \n",
       "4    12.40       1               12.40 2023-07-31 2023-08-01  "
      ]
     },
     "execution_count": 14,
     "metadata": {},
     "output_type": "execute_result"
    }
   ],
   "source": [
    "data_orders_grouped.head()"
   ]
  },
  {
   "cell_type": "code",
   "execution_count": 15,
   "metadata": {},
   "outputs": [
    {
     "data": {
      "text/html": [
       "<div>\n",
       "<style scoped>\n",
       "    .dataframe tbody tr th:only-of-type {\n",
       "        vertical-align: middle;\n",
       "    }\n",
       "\n",
       "    .dataframe tbody tr th {\n",
       "        vertical-align: top;\n",
       "    }\n",
       "\n",
       "    .dataframe thead th {\n",
       "        text-align: right;\n",
       "    }\n",
       "</style>\n",
       "<table border=\"1\" class=\"dataframe\">\n",
       "  <thead>\n",
       "    <tr style=\"text-align: right;\">\n",
       "      <th></th>\n",
       "      <th>date</th>\n",
       "      <th>facility_id</th>\n",
       "      <th>facility_name</th>\n",
       "      <th>labor_hours_actual_including_cr_hours_allocation</th>\n",
       "      <th>daily_cr_labor_hours_allocation</th>\n",
       "    </tr>\n",
       "  </thead>\n",
       "  <tbody>\n",
       "    <tr>\n",
       "      <th>0</th>\n",
       "      <td>2023-08-26</td>\n",
       "      <td>2019e0f4-7fd8-47fd-a858-9e5c4b409a39</td>\n",
       "      <td>NA-US-CO-DEN-Aurora</td>\n",
       "      <td>0.000000</td>\n",
       "      <td>0.0</td>\n",
       "    </tr>\n",
       "    <tr>\n",
       "      <th>1</th>\n",
       "      <td>2023-08-05</td>\n",
       "      <td>2019e0f4-7fd8-47fd-a858-9e5c4b409a39</td>\n",
       "      <td>NA-US-CO-DEN-Aurora</td>\n",
       "      <td>0.000000</td>\n",
       "      <td>0.0</td>\n",
       "    </tr>\n",
       "    <tr>\n",
       "      <th>2</th>\n",
       "      <td>2023-08-15</td>\n",
       "      <td>2019e0f4-7fd8-47fd-a858-9e5c4b409a39</td>\n",
       "      <td>NA-US-CO-DEN-Aurora</td>\n",
       "      <td>7.416667</td>\n",
       "      <td>0.0</td>\n",
       "    </tr>\n",
       "    <tr>\n",
       "      <th>3</th>\n",
       "      <td>2023-08-01</td>\n",
       "      <td>2019e0f4-7fd8-47fd-a858-9e5c4b409a39</td>\n",
       "      <td>NA-US-CO-DEN-Aurora</td>\n",
       "      <td>0.000000</td>\n",
       "      <td>0.0</td>\n",
       "    </tr>\n",
       "    <tr>\n",
       "      <th>4</th>\n",
       "      <td>2023-08-31</td>\n",
       "      <td>2019e0f4-7fd8-47fd-a858-9e5c4b409a39</td>\n",
       "      <td>NA-US-CO-DEN-Aurora</td>\n",
       "      <td>9.616667</td>\n",
       "      <td>0.0</td>\n",
       "    </tr>\n",
       "  </tbody>\n",
       "</table>\n",
       "</div>"
      ],
      "text/plain": [
       "         date                           facility_id        facility_name   \n",
       "0  2023-08-26  2019e0f4-7fd8-47fd-a858-9e5c4b409a39  NA-US-CO-DEN-Aurora  \\\n",
       "1  2023-08-05  2019e0f4-7fd8-47fd-a858-9e5c4b409a39  NA-US-CO-DEN-Aurora   \n",
       "2  2023-08-15  2019e0f4-7fd8-47fd-a858-9e5c4b409a39  NA-US-CO-DEN-Aurora   \n",
       "3  2023-08-01  2019e0f4-7fd8-47fd-a858-9e5c4b409a39  NA-US-CO-DEN-Aurora   \n",
       "4  2023-08-31  2019e0f4-7fd8-47fd-a858-9e5c4b409a39  NA-US-CO-DEN-Aurora   \n",
       "\n",
       "   labor_hours_actual_including_cr_hours_allocation   \n",
       "0                                          0.000000  \\\n",
       "1                                          0.000000   \n",
       "2                                          7.416667   \n",
       "3                                          0.000000   \n",
       "4                                          9.616667   \n",
       "\n",
       "   daily_cr_labor_hours_allocation  \n",
       "0                              0.0  \n",
       "1                              0.0  \n",
       "2                              0.0  \n",
       "3                              0.0  \n",
       "4                              0.0  "
      ]
     },
     "execution_count": 15,
     "metadata": {},
     "output_type": "execute_result"
    }
   ],
   "source": [
    "data_labor = pd.read_csv('data_labor.csv')\n",
    "data_labor.head()"
   ]
  },
  {
   "cell_type": "code",
   "execution_count": 16,
   "metadata": {},
   "outputs": [
    {
     "data": {
      "text/plain": [
       "(266, 5)"
      ]
     },
     "execution_count": 16,
     "metadata": {},
     "output_type": "execute_result"
    }
   ],
   "source": [
    "data_labor.shape"
   ]
  },
  {
   "cell_type": "code",
   "execution_count": 17,
   "metadata": {},
   "outputs": [],
   "source": [
    "data_labor[\"date\"] = pd.to_datetime(data_labor[\"date\"],format=\"%Y-%m-%d\")"
   ]
  },
  {
   "cell_type": "code",
   "execution_count": 18,
   "metadata": {},
   "outputs": [
    {
     "data": {
      "text/plain": [
       "(266, 5)"
      ]
     },
     "execution_count": 18,
     "metadata": {},
     "output_type": "execute_result"
    }
   ],
   "source": [
    "#We do not have duplicates\n",
    "data_labor.drop_duplicates(keep='last')\n",
    "data_labor.shape"
   ]
  },
  {
   "cell_type": "code",
   "execution_count": 19,
   "metadata": {},
   "outputs": [
    {
     "data": {
      "text/plain": [
       "(266, 5)"
      ]
     },
     "execution_count": 19,
     "metadata": {},
     "output_type": "execute_result"
    }
   ],
   "source": [
    "# No Na values\n",
    "data_labor.dropna(inplace=True)\n",
    "data_labor.shape"
   ]
  },
  {
   "cell_type": "code",
   "execution_count": 20,
   "metadata": {},
   "outputs": [],
   "source": [
    "data_labor['week'] = data_labor['date'] - pd.to_timedelta(data_labor['date'].dt.dayofweek, unit='d')\n",
    "data_labor['month'] = data_labor['date'].dt.to_period('M').dt.to_timestamp()"
   ]
  },
  {
   "cell_type": "code",
   "execution_count": 21,
   "metadata": {},
   "outputs": [],
   "source": [
    "data_labor.rename(columns = {'facility_name':'facility',\n",
    "'labor_hours_actual_including_cr_hours_allocation':'hours_staffed'}, inplace=True)\n",
    "\n",
    "data_labor['labor_cost'] = data_labor['hours_staffed']*18"
   ]
  },
  {
   "cell_type": "code",
   "execution_count": 22,
   "metadata": {},
   "outputs": [],
   "source": [
    "data_labor.to_csv('data_labor_clean.csv', index=False)"
   ]
  },
  {
   "cell_type": "code",
   "execution_count": 23,
   "metadata": {},
   "outputs": [
    {
     "data": {
      "text/html": [
       "<div>\n",
       "<style scoped>\n",
       "    .dataframe tbody tr th:only-of-type {\n",
       "        vertical-align: middle;\n",
       "    }\n",
       "\n",
       "    .dataframe tbody tr th {\n",
       "        vertical-align: top;\n",
       "    }\n",
       "\n",
       "    .dataframe thead th {\n",
       "        text-align: right;\n",
       "    }\n",
       "</style>\n",
       "<table border=\"1\" class=\"dataframe\">\n",
       "  <thead>\n",
       "    <tr style=\"text-align: right;\">\n",
       "      <th></th>\n",
       "      <th>date</th>\n",
       "      <th>facility_id</th>\n",
       "      <th>facility</th>\n",
       "      <th>hours_staffed</th>\n",
       "      <th>daily_cr_labor_hours_allocation</th>\n",
       "      <th>week</th>\n",
       "      <th>month</th>\n",
       "      <th>labor_cost</th>\n",
       "    </tr>\n",
       "  </thead>\n",
       "  <tbody>\n",
       "    <tr>\n",
       "      <th>0</th>\n",
       "      <td>2023-08-26</td>\n",
       "      <td>2019e0f4-7fd8-47fd-a858-9e5c4b409a39</td>\n",
       "      <td>NA-US-CO-DEN-Aurora</td>\n",
       "      <td>0.000000</td>\n",
       "      <td>0.0</td>\n",
       "      <td>2023-08-21</td>\n",
       "      <td>2023-08-01</td>\n",
       "      <td>0.000000</td>\n",
       "    </tr>\n",
       "    <tr>\n",
       "      <th>1</th>\n",
       "      <td>2023-08-05</td>\n",
       "      <td>2019e0f4-7fd8-47fd-a858-9e5c4b409a39</td>\n",
       "      <td>NA-US-CO-DEN-Aurora</td>\n",
       "      <td>0.000000</td>\n",
       "      <td>0.0</td>\n",
       "      <td>2023-07-31</td>\n",
       "      <td>2023-08-01</td>\n",
       "      <td>0.000000</td>\n",
       "    </tr>\n",
       "    <tr>\n",
       "      <th>2</th>\n",
       "      <td>2023-08-15</td>\n",
       "      <td>2019e0f4-7fd8-47fd-a858-9e5c4b409a39</td>\n",
       "      <td>NA-US-CO-DEN-Aurora</td>\n",
       "      <td>7.416667</td>\n",
       "      <td>0.0</td>\n",
       "      <td>2023-08-14</td>\n",
       "      <td>2023-08-01</td>\n",
       "      <td>133.500006</td>\n",
       "    </tr>\n",
       "    <tr>\n",
       "      <th>3</th>\n",
       "      <td>2023-08-01</td>\n",
       "      <td>2019e0f4-7fd8-47fd-a858-9e5c4b409a39</td>\n",
       "      <td>NA-US-CO-DEN-Aurora</td>\n",
       "      <td>0.000000</td>\n",
       "      <td>0.0</td>\n",
       "      <td>2023-07-31</td>\n",
       "      <td>2023-08-01</td>\n",
       "      <td>0.000000</td>\n",
       "    </tr>\n",
       "    <tr>\n",
       "      <th>4</th>\n",
       "      <td>2023-08-31</td>\n",
       "      <td>2019e0f4-7fd8-47fd-a858-9e5c4b409a39</td>\n",
       "      <td>NA-US-CO-DEN-Aurora</td>\n",
       "      <td>9.616667</td>\n",
       "      <td>0.0</td>\n",
       "      <td>2023-08-28</td>\n",
       "      <td>2023-08-01</td>\n",
       "      <td>173.100006</td>\n",
       "    </tr>\n",
       "  </tbody>\n",
       "</table>\n",
       "</div>"
      ],
      "text/plain": [
       "        date                           facility_id             facility   \n",
       "0 2023-08-26  2019e0f4-7fd8-47fd-a858-9e5c4b409a39  NA-US-CO-DEN-Aurora  \\\n",
       "1 2023-08-05  2019e0f4-7fd8-47fd-a858-9e5c4b409a39  NA-US-CO-DEN-Aurora   \n",
       "2 2023-08-15  2019e0f4-7fd8-47fd-a858-9e5c4b409a39  NA-US-CO-DEN-Aurora   \n",
       "3 2023-08-01  2019e0f4-7fd8-47fd-a858-9e5c4b409a39  NA-US-CO-DEN-Aurora   \n",
       "4 2023-08-31  2019e0f4-7fd8-47fd-a858-9e5c4b409a39  NA-US-CO-DEN-Aurora   \n",
       "\n",
       "   hours_staffed  daily_cr_labor_hours_allocation       week      month   \n",
       "0       0.000000                              0.0 2023-08-21 2023-08-01  \\\n",
       "1       0.000000                              0.0 2023-07-31 2023-08-01   \n",
       "2       7.416667                              0.0 2023-08-14 2023-08-01   \n",
       "3       0.000000                              0.0 2023-07-31 2023-08-01   \n",
       "4       9.616667                              0.0 2023-08-28 2023-08-01   \n",
       "\n",
       "   labor_cost  \n",
       "0    0.000000  \n",
       "1    0.000000  \n",
       "2  133.500006  \n",
       "3    0.000000  \n",
       "4  173.100006  "
      ]
     },
     "execution_count": 23,
     "metadata": {},
     "output_type": "execute_result"
    }
   ],
   "source": [
    "data_labor.head()"
   ]
  },
  {
   "cell_type": "code",
   "execution_count": 24,
   "metadata": {},
   "outputs": [
    {
     "data": {
      "text/plain": [
       "(3312, 16)"
      ]
     },
     "execution_count": 24,
     "metadata": {},
     "output_type": "execute_result"
    }
   ],
   "source": [
    "data_all = pd.merge(data_orders_grouped,data_labor, on=['date','facility_id'],how='left')\n",
    "data_all.shape"
   ]
  },
  {
   "cell_type": "code",
   "execution_count": 26,
   "metadata": {},
   "outputs": [],
   "source": [
    "# WE CALCULATE THE LABOR COST, ASSUMING WE PAY RUNNERS $18 PER HOUR\n",
    "data_all['labor_cost'] = data_all['hours_staffed']*18"
   ]
  },
  {
   "cell_type": "code",
   "execution_count": 27,
   "metadata": {},
   "outputs": [
    {
     "data": {
      "text/html": [
       "<div>\n",
       "<style scoped>\n",
       "    .dataframe tbody tr th:only-of-type {\n",
       "        vertical-align: middle;\n",
       "    }\n",
       "\n",
       "    .dataframe tbody tr th {\n",
       "        vertical-align: top;\n",
       "    }\n",
       "\n",
       "    .dataframe thead th {\n",
       "        text-align: right;\n",
       "    }\n",
       "</style>\n",
       "<table border=\"1\" class=\"dataframe\">\n",
       "  <thead>\n",
       "    <tr style=\"text-align: right;\">\n",
       "      <th></th>\n",
       "      <th>date</th>\n",
       "      <th>facility_x</th>\n",
       "      <th>facility_id</th>\n",
       "      <th>organization_name</th>\n",
       "      <th>subregion</th>\n",
       "      <th>gmv</th>\n",
       "      <th>orders</th>\n",
       "      <th>gmv_minus_discount</th>\n",
       "      <th>week_x</th>\n",
       "      <th>month_x</th>\n",
       "      <th>facility_y</th>\n",
       "      <th>hours_staffed</th>\n",
       "      <th>daily_cr_labor_hours_allocation</th>\n",
       "      <th>week_y</th>\n",
       "      <th>month_y</th>\n",
       "      <th>labor_cost</th>\n",
       "    </tr>\n",
       "  </thead>\n",
       "  <tbody>\n",
       "    <tr>\n",
       "      <th>0</th>\n",
       "      <td>2023-08-01</td>\n",
       "      <td>NA-US-CA(N)-NH-Ruff (Kitchens)</td>\n",
       "      <td>905cbe43-327f-4d3e-a897-48ee81a64ade</td>\n",
       "      <td>abundant river</td>\n",
       "      <td>Northwest</td>\n",
       "      <td>1807.00</td>\n",
       "      <td>44</td>\n",
       "      <td>1722.11</td>\n",
       "      <td>2023-07-31</td>\n",
       "      <td>2023-08-01</td>\n",
       "      <td>NA-US-CA(N)-NH-Ruff (Kitchens)</td>\n",
       "      <td>29.483333</td>\n",
       "      <td>0.0</td>\n",
       "      <td>2023-07-31</td>\n",
       "      <td>2023-08-01</td>\n",
       "      <td>530.699994</td>\n",
       "    </tr>\n",
       "    <tr>\n",
       "      <th>1</th>\n",
       "      <td>2023-08-01</td>\n",
       "      <td>NA-US-CA(N)-NH-Ruff (Kitchens)</td>\n",
       "      <td>905cbe43-327f-4d3e-a897-48ee81a64ade</td>\n",
       "      <td>agile tiger</td>\n",
       "      <td>Northwest</td>\n",
       "      <td>33.99</td>\n",
       "      <td>1</td>\n",
       "      <td>33.99</td>\n",
       "      <td>2023-07-31</td>\n",
       "      <td>2023-08-01</td>\n",
       "      <td>NA-US-CA(N)-NH-Ruff (Kitchens)</td>\n",
       "      <td>29.483333</td>\n",
       "      <td>0.0</td>\n",
       "      <td>2023-07-31</td>\n",
       "      <td>2023-08-01</td>\n",
       "      <td>530.699994</td>\n",
       "    </tr>\n",
       "    <tr>\n",
       "      <th>2</th>\n",
       "      <td>2023-08-01</td>\n",
       "      <td>NA-US-CA(N)-NH-Ruff (Kitchens)</td>\n",
       "      <td>905cbe43-327f-4d3e-a897-48ee81a64ade</td>\n",
       "      <td>alluring dolphin</td>\n",
       "      <td>Northwest</td>\n",
       "      <td>1110.95</td>\n",
       "      <td>38</td>\n",
       "      <td>1104.95</td>\n",
       "      <td>2023-07-31</td>\n",
       "      <td>2023-08-01</td>\n",
       "      <td>NA-US-CA(N)-NH-Ruff (Kitchens)</td>\n",
       "      <td>29.483333</td>\n",
       "      <td>0.0</td>\n",
       "      <td>2023-07-31</td>\n",
       "      <td>2023-08-01</td>\n",
       "      <td>530.699994</td>\n",
       "    </tr>\n",
       "    <tr>\n",
       "      <th>3</th>\n",
       "      <td>2023-08-01</td>\n",
       "      <td>NA-US-CA(N)-NH-Ruff (Kitchens)</td>\n",
       "      <td>905cbe43-327f-4d3e-a897-48ee81a64ade</td>\n",
       "      <td>charming island</td>\n",
       "      <td>Northwest</td>\n",
       "      <td>30.00</td>\n",
       "      <td>1</td>\n",
       "      <td>30.00</td>\n",
       "      <td>2023-07-31</td>\n",
       "      <td>2023-08-01</td>\n",
       "      <td>NA-US-CA(N)-NH-Ruff (Kitchens)</td>\n",
       "      <td>29.483333</td>\n",
       "      <td>0.0</td>\n",
       "      <td>2023-07-31</td>\n",
       "      <td>2023-08-01</td>\n",
       "      <td>530.699994</td>\n",
       "    </tr>\n",
       "    <tr>\n",
       "      <th>4</th>\n",
       "      <td>2023-08-01</td>\n",
       "      <td>NA-US-CA(N)-NH-Ruff (Kitchens)</td>\n",
       "      <td>905cbe43-327f-4d3e-a897-48ee81a64ade</td>\n",
       "      <td>colorful kangaroo</td>\n",
       "      <td>Northwest</td>\n",
       "      <td>12.40</td>\n",
       "      <td>1</td>\n",
       "      <td>12.40</td>\n",
       "      <td>2023-07-31</td>\n",
       "      <td>2023-08-01</td>\n",
       "      <td>NA-US-CA(N)-NH-Ruff (Kitchens)</td>\n",
       "      <td>29.483333</td>\n",
       "      <td>0.0</td>\n",
       "      <td>2023-07-31</td>\n",
       "      <td>2023-08-01</td>\n",
       "      <td>530.699994</td>\n",
       "    </tr>\n",
       "  </tbody>\n",
       "</table>\n",
       "</div>"
      ],
      "text/plain": [
       "        date                      facility_x   \n",
       "0 2023-08-01  NA-US-CA(N)-NH-Ruff (Kitchens)  \\\n",
       "1 2023-08-01  NA-US-CA(N)-NH-Ruff (Kitchens)   \n",
       "2 2023-08-01  NA-US-CA(N)-NH-Ruff (Kitchens)   \n",
       "3 2023-08-01  NA-US-CA(N)-NH-Ruff (Kitchens)   \n",
       "4 2023-08-01  NA-US-CA(N)-NH-Ruff (Kitchens)   \n",
       "\n",
       "                            facility_id  organization_name  subregion   \n",
       "0  905cbe43-327f-4d3e-a897-48ee81a64ade     abundant river  Northwest  \\\n",
       "1  905cbe43-327f-4d3e-a897-48ee81a64ade        agile tiger  Northwest   \n",
       "2  905cbe43-327f-4d3e-a897-48ee81a64ade   alluring dolphin  Northwest   \n",
       "3  905cbe43-327f-4d3e-a897-48ee81a64ade    charming island  Northwest   \n",
       "4  905cbe43-327f-4d3e-a897-48ee81a64ade  colorful kangaroo  Northwest   \n",
       "\n",
       "       gmv  orders  gmv_minus_discount     week_x    month_x   \n",
       "0  1807.00      44             1722.11 2023-07-31 2023-08-01  \\\n",
       "1    33.99       1               33.99 2023-07-31 2023-08-01   \n",
       "2  1110.95      38             1104.95 2023-07-31 2023-08-01   \n",
       "3    30.00       1               30.00 2023-07-31 2023-08-01   \n",
       "4    12.40       1               12.40 2023-07-31 2023-08-01   \n",
       "\n",
       "                       facility_y  hours_staffed   \n",
       "0  NA-US-CA(N)-NH-Ruff (Kitchens)      29.483333  \\\n",
       "1  NA-US-CA(N)-NH-Ruff (Kitchens)      29.483333   \n",
       "2  NA-US-CA(N)-NH-Ruff (Kitchens)      29.483333   \n",
       "3  NA-US-CA(N)-NH-Ruff (Kitchens)      29.483333   \n",
       "4  NA-US-CA(N)-NH-Ruff (Kitchens)      29.483333   \n",
       "\n",
       "   daily_cr_labor_hours_allocation     week_y    month_y  labor_cost  \n",
       "0                              0.0 2023-07-31 2023-08-01  530.699994  \n",
       "1                              0.0 2023-07-31 2023-08-01  530.699994  \n",
       "2                              0.0 2023-07-31 2023-08-01  530.699994  \n",
       "3                              0.0 2023-07-31 2023-08-01  530.699994  \n",
       "4                              0.0 2023-07-31 2023-08-01  530.699994  "
      ]
     },
     "execution_count": 27,
     "metadata": {},
     "output_type": "execute_result"
    }
   ],
   "source": [
    "data_all.head()"
   ]
  },
  {
   "cell_type": "markdown",
   "metadata": {},
   "source": [
    "## Metrics"
   ]
  },
  {
   "cell_type": "code",
   "execution_count": 28,
   "metadata": {},
   "outputs": [
    {
     "data": {
      "text/html": [
       "<div>\n",
       "<style scoped>\n",
       "    .dataframe tbody tr th:only-of-type {\n",
       "        vertical-align: middle;\n",
       "    }\n",
       "\n",
       "    .dataframe tbody tr th {\n",
       "        vertical-align: top;\n",
       "    }\n",
       "\n",
       "    .dataframe thead th {\n",
       "        text-align: right;\n",
       "    }\n",
       "</style>\n",
       "<table border=\"1\" class=\"dataframe\">\n",
       "  <thead>\n",
       "    <tr style=\"text-align: right;\">\n",
       "      <th></th>\n",
       "      <th>organization_name</th>\n",
       "      <th>gmv</th>\n",
       "      <th>orders</th>\n",
       "    </tr>\n",
       "  </thead>\n",
       "  <tbody>\n",
       "    <tr>\n",
       "      <th>0</th>\n",
       "      <td>boring apple</td>\n",
       "      <td>388170.78</td>\n",
       "      <td>11094</td>\n",
       "    </tr>\n",
       "    <tr>\n",
       "      <th>1</th>\n",
       "      <td>witty piano</td>\n",
       "      <td>192575.13</td>\n",
       "      <td>6677</td>\n",
       "    </tr>\n",
       "    <tr>\n",
       "      <th>2</th>\n",
       "      <td>abundant river</td>\n",
       "      <td>186832.91</td>\n",
       "      <td>6317</td>\n",
       "    </tr>\n",
       "    <tr>\n",
       "      <th>3</th>\n",
       "      <td>delicious tiger</td>\n",
       "      <td>185326.25</td>\n",
       "      <td>6864</td>\n",
       "    </tr>\n",
       "    <tr>\n",
       "      <th>4</th>\n",
       "      <td>alluring dolphin</td>\n",
       "      <td>126175.95</td>\n",
       "      <td>4908</td>\n",
       "    </tr>\n",
       "  </tbody>\n",
       "</table>\n",
       "</div>"
      ],
      "text/plain": [
       "  organization_name        gmv  orders\n",
       "0      boring apple  388170.78   11094\n",
       "1       witty piano  192575.13    6677\n",
       "2    abundant river  186832.91    6317\n",
       "3   delicious tiger  185326.25    6864\n",
       "4  alluring dolphin  126175.95    4908"
      ]
     },
     "execution_count": 28,
     "metadata": {},
     "output_type": "execute_result"
    }
   ],
   "source": [
    "# TOP 5 MOST SUCCESSFUL RESTAURANTS\n",
    "data_orders_grouped.groupby(['organization_name'])[['gmv','orders']].sum().sort_values(by =['gmv'],\n",
    "ascending=False).reset_index().head(5)"
   ]
  },
  {
   "cell_type": "code",
   "execution_count": 30,
   "metadata": {},
   "outputs": [
    {
     "data": {
      "text/html": [
       "<div>\n",
       "<style scoped>\n",
       "    .dataframe tbody tr th:only-of-type {\n",
       "        vertical-align: middle;\n",
       "    }\n",
       "\n",
       "    .dataframe tbody tr th {\n",
       "        vertical-align: top;\n",
       "    }\n",
       "\n",
       "    .dataframe thead th {\n",
       "        text-align: right;\n",
       "    }\n",
       "</style>\n",
       "<table border=\"1\" class=\"dataframe\">\n",
       "  <thead>\n",
       "    <tr style=\"text-align: right;\">\n",
       "      <th></th>\n",
       "      <th>organization_name</th>\n",
       "      <th>gmv</th>\n",
       "      <th>gmv_minus_discount</th>\n",
       "      <th>orders</th>\n",
       "    </tr>\n",
       "  </thead>\n",
       "  <tbody>\n",
       "    <tr>\n",
       "      <th>0</th>\n",
       "      <td>abundant apple</td>\n",
       "      <td>151.350588</td>\n",
       "      <td>131.117059</td>\n",
       "      <td>4.411765</td>\n",
       "    </tr>\n",
       "    <tr>\n",
       "      <th>1</th>\n",
       "      <td>abundant bicycle</td>\n",
       "      <td>816.170000</td>\n",
       "      <td>687.591316</td>\n",
       "      <td>26.842105</td>\n",
       "    </tr>\n",
       "    <tr>\n",
       "      <th>2</th>\n",
       "      <td>abundant cloud</td>\n",
       "      <td>98.921875</td>\n",
       "      <td>87.824062</td>\n",
       "      <td>3.343750</td>\n",
       "    </tr>\n",
       "    <tr>\n",
       "      <th>3</th>\n",
       "      <td>abundant dolphin</td>\n",
       "      <td>25.164783</td>\n",
       "      <td>24.926522</td>\n",
       "      <td>1.304348</td>\n",
       "    </tr>\n",
       "    <tr>\n",
       "      <th>4</th>\n",
       "      <td>abundant elephant</td>\n",
       "      <td>409.007353</td>\n",
       "      <td>382.743529</td>\n",
       "      <td>15.852941</td>\n",
       "    </tr>\n",
       "    <tr>\n",
       "      <th>...</th>\n",
       "      <td>...</td>\n",
       "      <td>...</td>\n",
       "      <td>...</td>\n",
       "      <td>...</td>\n",
       "    </tr>\n",
       "    <tr>\n",
       "      <th>125</th>\n",
       "      <td>vibrant zebra</td>\n",
       "      <td>192.277333</td>\n",
       "      <td>156.298000</td>\n",
       "      <td>6.933333</td>\n",
       "    </tr>\n",
       "    <tr>\n",
       "      <th>126</th>\n",
       "      <td>witty house</td>\n",
       "      <td>346.420263</td>\n",
       "      <td>315.278947</td>\n",
       "      <td>13.052632</td>\n",
       "    </tr>\n",
       "    <tr>\n",
       "      <th>127</th>\n",
       "      <td>witty laptop</td>\n",
       "      <td>396.940789</td>\n",
       "      <td>354.279474</td>\n",
       "      <td>12.315789</td>\n",
       "    </tr>\n",
       "    <tr>\n",
       "      <th>128</th>\n",
       "      <td>witty ocean</td>\n",
       "      <td>19.127143</td>\n",
       "      <td>19.057143</td>\n",
       "      <td>1.428571</td>\n",
       "    </tr>\n",
       "    <tr>\n",
       "      <th>129</th>\n",
       "      <td>witty piano</td>\n",
       "      <td>2751.073286</td>\n",
       "      <td>1976.582714</td>\n",
       "      <td>95.385714</td>\n",
       "    </tr>\n",
       "  </tbody>\n",
       "</table>\n",
       "<p>130 rows × 4 columns</p>\n",
       "</div>"
      ],
      "text/plain": [
       "     organization_name          gmv  gmv_minus_discount     orders\n",
       "0       abundant apple   151.350588          131.117059   4.411765\n",
       "1     abundant bicycle   816.170000          687.591316  26.842105\n",
       "2       abundant cloud    98.921875           87.824062   3.343750\n",
       "3     abundant dolphin    25.164783           24.926522   1.304348\n",
       "4    abundant elephant   409.007353          382.743529  15.852941\n",
       "..                 ...          ...                 ...        ...\n",
       "125      vibrant zebra   192.277333          156.298000   6.933333\n",
       "126        witty house   346.420263          315.278947  13.052632\n",
       "127       witty laptop   396.940789          354.279474  12.315789\n",
       "128        witty ocean    19.127143           19.057143   1.428571\n",
       "129        witty piano  2751.073286         1976.582714  95.385714\n",
       "\n",
       "[130 rows x 4 columns]"
      ]
     },
     "execution_count": 30,
     "metadata": {},
     "output_type": "execute_result"
    }
   ],
   "source": [
    "#AVERAGE NUMBER OF ORDERS AND GMV PER DAY PER RESTAURANT AND FACILITY\n",
    "#HERE IN THIS WAY WE ARE PRETTY MUCH CALCULATING THE AVG #ORDERS BY DAY, EVERYTHING BY DAY\n",
    "# WE COULD CHANDE THE TIME PERIOD TO WEEK OR MONTH\n",
    "\n",
    "data_orders_grouped.groupby(['organization_name'])[['gmv','gmv_minus_discount','orders']].mean().reset_index()"
   ]
  },
  {
   "cell_type": "code",
   "execution_count": 31,
   "metadata": {},
   "outputs": [
    {
     "data": {
      "text/html": [
       "<div>\n",
       "<style scoped>\n",
       "    .dataframe tbody tr th:only-of-type {\n",
       "        vertical-align: middle;\n",
       "    }\n",
       "\n",
       "    .dataframe tbody tr th {\n",
       "        vertical-align: top;\n",
       "    }\n",
       "\n",
       "    .dataframe thead th {\n",
       "        text-align: right;\n",
       "    }\n",
       "</style>\n",
       "<table border=\"1\" class=\"dataframe\">\n",
       "  <thead>\n",
       "    <tr style=\"text-align: right;\">\n",
       "      <th></th>\n",
       "      <th>facility</th>\n",
       "      <th>organization_name</th>\n",
       "      <th>gmv</th>\n",
       "      <th>gmv_minus_discount</th>\n",
       "      <th>orders</th>\n",
       "    </tr>\n",
       "  </thead>\n",
       "  <tbody>\n",
       "    <tr>\n",
       "      <th>0</th>\n",
       "      <td>NA-US-CA(N)-NH-Ruff (Kitchens)</td>\n",
       "      <td>boring apple</td>\n",
       "      <td>37.121053</td>\n",
       "      <td>36.414211</td>\n",
       "      <td>1.157895</td>\n",
       "    </tr>\n",
       "    <tr>\n",
       "      <th>1</th>\n",
       "      <td>NA-US-IL-DUN-Avondale</td>\n",
       "      <td>boring apple</td>\n",
       "      <td>209.817319</td>\n",
       "      <td>138.021964</td>\n",
       "      <td>5.953927</td>\n",
       "    </tr>\n",
       "    <tr>\n",
       "      <th>2</th>\n",
       "      <td>NA-US-OD-5th (correct)</td>\n",
       "      <td>boring apple</td>\n",
       "      <td>63.945977</td>\n",
       "      <td>49.281557</td>\n",
       "      <td>1.859475</td>\n",
       "    </tr>\n",
       "  </tbody>\n",
       "</table>\n",
       "</div>"
      ],
      "text/plain": [
       "                         facility organization_name         gmv   \n",
       "0  NA-US-CA(N)-NH-Ruff (Kitchens)      boring apple   37.121053  \\\n",
       "1           NA-US-IL-DUN-Avondale      boring apple  209.817319   \n",
       "2          NA-US-OD-5th (correct)      boring apple   63.945977   \n",
       "\n",
       "   gmv_minus_discount    orders  \n",
       "0           36.414211  1.157895  \n",
       "1          138.021964  5.953927  \n",
       "2           49.281557  1.859475  "
      ]
     },
     "execution_count": 31,
     "metadata": {},
     "output_type": "execute_result"
    }
   ],
   "source": [
    "#AVERAGE AMOUNT OF ORDERS AND GMV PER DAY \n",
    "data_orders.loc[data_orders['organization_name']=='boring apple'].groupby(['facility','organization_name'])[['gmv','gmv_minus_discount','orders']].mean().reset_index()"
   ]
  },
  {
   "cell_type": "code",
   "execution_count": 32,
   "metadata": {},
   "outputs": [
    {
     "data": {
      "text/html": [
       "<div>\n",
       "<style scoped>\n",
       "    .dataframe tbody tr th:only-of-type {\n",
       "        vertical-align: middle;\n",
       "    }\n",
       "\n",
       "    .dataframe tbody tr th {\n",
       "        vertical-align: top;\n",
       "    }\n",
       "\n",
       "    .dataframe thead th {\n",
       "        text-align: right;\n",
       "    }\n",
       "</style>\n",
       "<table border=\"1\" class=\"dataframe\">\n",
       "  <thead>\n",
       "    <tr style=\"text-align: right;\">\n",
       "      <th></th>\n",
       "      <th>facility</th>\n",
       "      <th>gmv</th>\n",
       "      <th>gmv_minus_discount</th>\n",
       "      <th>orders</th>\n",
       "    </tr>\n",
       "  </thead>\n",
       "  <tbody>\n",
       "    <tr>\n",
       "      <th>0</th>\n",
       "      <td>NA-US-IL-DUN-Avondale</td>\n",
       "      <td>69.950111</td>\n",
       "      <td>57.231615</td>\n",
       "      <td>2.288638</td>\n",
       "    </tr>\n",
       "    <tr>\n",
       "      <th>1</th>\n",
       "      <td>NA-US-TX-KOL-18th</td>\n",
       "      <td>66.866208</td>\n",
       "      <td>61.440913</td>\n",
       "      <td>2.175258</td>\n",
       "    </tr>\n",
       "    <tr>\n",
       "      <th>2</th>\n",
       "      <td>NA-US-CA(N)-NH-Ruff (Kitchens)</td>\n",
       "      <td>66.052421</td>\n",
       "      <td>64.206937</td>\n",
       "      <td>2.048513</td>\n",
       "    </tr>\n",
       "    <tr>\n",
       "      <th>3</th>\n",
       "      <td>NA-US-NG-OTT-Tempe (Kitchens) (correct)</td>\n",
       "      <td>59.260392</td>\n",
       "      <td>49.312910</td>\n",
       "      <td>1.997836</td>\n",
       "    </tr>\n",
       "    <tr>\n",
       "      <th>4</th>\n",
       "      <td>NA-US-OD-5th (correct)</td>\n",
       "      <td>51.363129</td>\n",
       "      <td>45.597707</td>\n",
       "      <td>1.680794</td>\n",
       "    </tr>\n",
       "    <tr>\n",
       "      <th>5</th>\n",
       "      <td>NA-US-TUCS-SA-Lombrano (Correct)</td>\n",
       "      <td>40.948912</td>\n",
       "      <td>39.821425</td>\n",
       "      <td>1.456354</td>\n",
       "    </tr>\n",
       "    <tr>\n",
       "      <th>6</th>\n",
       "      <td>NA-US-CO-DEN-Aurora</td>\n",
       "      <td>40.082818</td>\n",
       "      <td>35.284280</td>\n",
       "      <td>1.244145</td>\n",
       "    </tr>\n",
       "  </tbody>\n",
       "</table>\n",
       "</div>"
      ],
      "text/plain": [
       "                                  facility        gmv  gmv_minus_discount   \n",
       "0                    NA-US-IL-DUN-Avondale  69.950111           57.231615  \\\n",
       "1                        NA-US-TX-KOL-18th  66.866208           61.440913   \n",
       "2           NA-US-CA(N)-NH-Ruff (Kitchens)  66.052421           64.206937   \n",
       "3  NA-US-NG-OTT-Tempe (Kitchens) (correct)  59.260392           49.312910   \n",
       "4                   NA-US-OD-5th (correct)  51.363129           45.597707   \n",
       "5         NA-US-TUCS-SA-Lombrano (Correct)  40.948912           39.821425   \n",
       "6                      NA-US-CO-DEN-Aurora  40.082818           35.284280   \n",
       "\n",
       "     orders  \n",
       "0  2.288638  \n",
       "1  2.175258  \n",
       "2  2.048513  \n",
       "3  1.997836  \n",
       "4  1.680794  \n",
       "5  1.456354  \n",
       "6  1.244145  "
      ]
     },
     "execution_count": 32,
     "metadata": {},
     "output_type": "execute_result"
    }
   ],
   "source": [
    "# AVERAGE NUMBER OF ORDERS AND GMV ONLY PER FACILITY \n",
    "\n",
    "data_orders.groupby(['facility'])[['gmv','gmv_minus_discount','orders']].mean().sort_values(by=['orders'],ascending = False).reset_index()"
   ]
  },
  {
   "cell_type": "code",
   "execution_count": 34,
   "metadata": {},
   "outputs": [
    {
     "data": {
      "text/plain": [
       "count    266.000000\n",
       "mean      10.886967\n",
       "std        9.077066\n",
       "min        0.000000\n",
       "25%        0.000000\n",
       "50%       10.675000\n",
       "75%       17.258333\n",
       "max       34.466668\n",
       "Name: hours_staffed, dtype: float64"
      ]
     },
     "execution_count": 34,
     "metadata": {},
     "output_type": "execute_result"
    }
   ],
   "source": [
    "# DISTRIBUTION OF HOURS STAFFED IN THE FACILITIES DURING THIS PERIOD OF TIME\n",
    "data_labor.hours_staffed.describe()"
   ]
  },
  {
   "cell_type": "code",
   "execution_count": 37,
   "metadata": {},
   "outputs": [
    {
     "data": {
      "text/html": [
       "<div>\n",
       "<style scoped>\n",
       "    .dataframe tbody tr th:only-of-type {\n",
       "        vertical-align: middle;\n",
       "    }\n",
       "\n",
       "    .dataframe tbody tr th {\n",
       "        vertical-align: top;\n",
       "    }\n",
       "\n",
       "    .dataframe thead th {\n",
       "        text-align: right;\n",
       "    }\n",
       "</style>\n",
       "<table border=\"1\" class=\"dataframe\">\n",
       "  <thead>\n",
       "    <tr style=\"text-align: right;\">\n",
       "      <th></th>\n",
       "      <th>facility</th>\n",
       "      <th>orders</th>\n",
       "      <th>avg_orders_perhour</th>\n",
       "    </tr>\n",
       "  </thead>\n",
       "  <tbody>\n",
       "    <tr>\n",
       "      <th>2</th>\n",
       "      <td>NA-US-IL-DUN-Avondale</td>\n",
       "      <td>26388</td>\n",
       "      <td>61.510490</td>\n",
       "    </tr>\n",
       "    <tr>\n",
       "      <th>3</th>\n",
       "      <td>NA-US-NG-OTT-Tempe (Kitchens) (correct)</td>\n",
       "      <td>20310</td>\n",
       "      <td>47.342657</td>\n",
       "    </tr>\n",
       "    <tr>\n",
       "      <th>4</th>\n",
       "      <td>NA-US-OD-5th (correct)</td>\n",
       "      <td>18877</td>\n",
       "      <td>44.002331</td>\n",
       "    </tr>\n",
       "    <tr>\n",
       "      <th>0</th>\n",
       "      <td>NA-US-CA(N)-NH-Ruff (Kitchens)</td>\n",
       "      <td>17355</td>\n",
       "      <td>40.454545</td>\n",
       "    </tr>\n",
       "    <tr>\n",
       "      <th>6</th>\n",
       "      <td>NA-US-TX-KOL-18th</td>\n",
       "      <td>2954</td>\n",
       "      <td>6.885781</td>\n",
       "    </tr>\n",
       "    <tr>\n",
       "      <th>5</th>\n",
       "      <td>NA-US-TUCS-SA-Lombrano (Correct)</td>\n",
       "      <td>2636</td>\n",
       "      <td>6.144522</td>\n",
       "    </tr>\n",
       "    <tr>\n",
       "      <th>1</th>\n",
       "      <td>NA-US-CO-DEN-Aurora</td>\n",
       "      <td>1753</td>\n",
       "      <td>4.086247</td>\n",
       "    </tr>\n",
       "  </tbody>\n",
       "</table>\n",
       "</div>"
      ],
      "text/plain": [
       "                                  facility  orders  avg_orders_perhour\n",
       "2                    NA-US-IL-DUN-Avondale   26388           61.510490\n",
       "3  NA-US-NG-OTT-Tempe (Kitchens) (correct)   20310           47.342657\n",
       "4                   NA-US-OD-5th (correct)   18877           44.002331\n",
       "0           NA-US-CA(N)-NH-Ruff (Kitchens)   17355           40.454545\n",
       "6                        NA-US-TX-KOL-18th    2954            6.885781\n",
       "5         NA-US-TUCS-SA-Lombrano (Correct)    2636            6.144522\n",
       "1                      NA-US-CO-DEN-Aurora    1753            4.086247"
      ]
     },
     "execution_count": 37,
     "metadata": {},
     "output_type": "execute_result"
    }
   ],
   "source": [
    "# AVG #ORDERS PER HOUR FOR EACH FACILITY\n",
    "# ASUMING WE HAVE 11 OPERATION HOURS ON A REGULAR DAY (BASED ON AVG)\n",
    "# AND INFORMATION OF 39 DAYS\n",
    "\n",
    "orders_facility = data_orders.groupby(['facility'])[['orders']].sum().reset_index()\n",
    "\n",
    "orders_facility['avg_orders_perhour'] = orders_facility['orders']/(11*39)\n",
    "\n",
    "orders_facility.sort_values(by=['avg_orders_perhour'],ascending=False)"
   ]
  },
  {
   "cell_type": "code",
   "execution_count": 40,
   "metadata": {},
   "outputs": [
    {
     "data": {
      "text/html": [
       "<div>\n",
       "<style scoped>\n",
       "    .dataframe tbody tr th:only-of-type {\n",
       "        vertical-align: middle;\n",
       "    }\n",
       "\n",
       "    .dataframe tbody tr th {\n",
       "        vertical-align: top;\n",
       "    }\n",
       "\n",
       "    .dataframe thead th {\n",
       "        text-align: right;\n",
       "    }\n",
       "</style>\n",
       "<table border=\"1\" class=\"dataframe\">\n",
       "  <thead>\n",
       "    <tr style=\"text-align: right;\">\n",
       "      <th></th>\n",
       "      <th>facility</th>\n",
       "      <th>hours_staffed</th>\n",
       "      <th>labor_cost</th>\n",
       "    </tr>\n",
       "  </thead>\n",
       "  <tbody>\n",
       "    <tr>\n",
       "      <th>0</th>\n",
       "      <td>NA-US-CA(N)-NH-Ruff (Kitchens)</td>\n",
       "      <td>19.890790</td>\n",
       "      <td>358.034213</td>\n",
       "    </tr>\n",
       "    <tr>\n",
       "      <th>1</th>\n",
       "      <td>NA-US-NG-OTT-Tempe (Kitchens) (correct)</td>\n",
       "      <td>18.712281</td>\n",
       "      <td>336.821055</td>\n",
       "    </tr>\n",
       "    <tr>\n",
       "      <th>2</th>\n",
       "      <td>NA-US-OD-5th (correct)</td>\n",
       "      <td>14.622368</td>\n",
       "      <td>263.202630</td>\n",
       "    </tr>\n",
       "    <tr>\n",
       "      <th>3</th>\n",
       "      <td>NA-US-IL-DUN-Avondale</td>\n",
       "      <td>12.175439</td>\n",
       "      <td>219.157893</td>\n",
       "    </tr>\n",
       "    <tr>\n",
       "      <th>4</th>\n",
       "      <td>NA-US-TUCS-SA-Lombrano (Correct)</td>\n",
       "      <td>5.030702</td>\n",
       "      <td>90.552631</td>\n",
       "    </tr>\n",
       "    <tr>\n",
       "      <th>5</th>\n",
       "      <td>NA-US-CO-DEN-Aurora</td>\n",
       "      <td>3.015351</td>\n",
       "      <td>54.276316</td>\n",
       "    </tr>\n",
       "    <tr>\n",
       "      <th>6</th>\n",
       "      <td>NA-US-TX-KOL-18th</td>\n",
       "      <td>2.761842</td>\n",
       "      <td>49.713157</td>\n",
       "    </tr>\n",
       "  </tbody>\n",
       "</table>\n",
       "</div>"
      ],
      "text/plain": [
       "                                  facility  hours_staffed  labor_cost\n",
       "0           NA-US-CA(N)-NH-Ruff (Kitchens)      19.890790  358.034213\n",
       "1  NA-US-NG-OTT-Tempe (Kitchens) (correct)      18.712281  336.821055\n",
       "2                   NA-US-OD-5th (correct)      14.622368  263.202630\n",
       "3                    NA-US-IL-DUN-Avondale      12.175439  219.157893\n",
       "4         NA-US-TUCS-SA-Lombrano (Correct)       5.030702   90.552631\n",
       "5                      NA-US-CO-DEN-Aurora       3.015351   54.276316\n",
       "6                        NA-US-TX-KOL-18th       2.761842   49.713157"
      ]
     },
     "execution_count": 40,
     "metadata": {},
     "output_type": "execute_result"
    }
   ],
   "source": [
    "# WE CALCULATE THE LABOR COST, ASSUMING WE PAY RUNNERS $18 PER HOUR\n",
    "#data_labor['labor_cost'] = data_labor['labor_hours_actual_including_cr_hours_allocation']*18\n",
    "\n",
    "# AVG LABOR HOUR AND LABOR COST PER FACILITY (AT DAY LEVEL)\n",
    "\n",
    "data_labor.groupby(['facility'])[['hours_staffed','labor_cost']].mean().sort_values(by=['labor_cost'],ascending=False).reset_index()"
   ]
  },
  {
   "cell_type": "code",
   "execution_count": 43,
   "metadata": {},
   "outputs": [
    {
     "data": {
      "text/html": [
       "<div>\n",
       "<style scoped>\n",
       "    .dataframe tbody tr th:only-of-type {\n",
       "        vertical-align: middle;\n",
       "    }\n",
       "\n",
       "    .dataframe tbody tr th {\n",
       "        vertical-align: top;\n",
       "    }\n",
       "\n",
       "    .dataframe thead th {\n",
       "        text-align: right;\n",
       "    }\n",
       "</style>\n",
       "<table border=\"1\" class=\"dataframe\">\n",
       "  <thead>\n",
       "    <tr style=\"text-align: right;\">\n",
       "      <th></th>\n",
       "      <th>date</th>\n",
       "      <th>facility_x</th>\n",
       "      <th>facility_id</th>\n",
       "      <th>organization_name</th>\n",
       "      <th>subregion</th>\n",
       "      <th>gmv</th>\n",
       "      <th>orders</th>\n",
       "      <th>gmv_minus_discount</th>\n",
       "      <th>week_x</th>\n",
       "      <th>month_x</th>\n",
       "      <th>facility_y</th>\n",
       "      <th>hours_staffed</th>\n",
       "      <th>daily_cr_labor_hours_allocation</th>\n",
       "      <th>week_y</th>\n",
       "      <th>month_y</th>\n",
       "      <th>labor_cost</th>\n",
       "    </tr>\n",
       "  </thead>\n",
       "  <tbody>\n",
       "    <tr>\n",
       "      <th>2191</th>\n",
       "      <td>2023-08-26</td>\n",
       "      <td>NA-US-CO-DEN-Aurora</td>\n",
       "      <td>2019e0f4-7fd8-47fd-a858-9e5c4b409a39</td>\n",
       "      <td>abundant bicycle</td>\n",
       "      <td>Northwest</td>\n",
       "      <td>927.00</td>\n",
       "      <td>33</td>\n",
       "      <td>822.10</td>\n",
       "      <td>2023-08-21</td>\n",
       "      <td>2023-08-01</td>\n",
       "      <td>NA-US-CO-DEN-Aurora</td>\n",
       "      <td>0.0</td>\n",
       "      <td>0.0</td>\n",
       "      <td>2023-08-21</td>\n",
       "      <td>2023-08-01</td>\n",
       "      <td>0.0</td>\n",
       "    </tr>\n",
       "    <tr>\n",
       "      <th>2192</th>\n",
       "      <td>2023-08-26</td>\n",
       "      <td>NA-US-CO-DEN-Aurora</td>\n",
       "      <td>2019e0f4-7fd8-47fd-a858-9e5c4b409a39</td>\n",
       "      <td>optimistic flower</td>\n",
       "      <td>Northwest</td>\n",
       "      <td>927.03</td>\n",
       "      <td>29</td>\n",
       "      <td>857.11</td>\n",
       "      <td>2023-08-21</td>\n",
       "      <td>2023-08-01</td>\n",
       "      <td>NA-US-CO-DEN-Aurora</td>\n",
       "      <td>0.0</td>\n",
       "      <td>0.0</td>\n",
       "      <td>2023-08-21</td>\n",
       "      <td>2023-08-01</td>\n",
       "      <td>0.0</td>\n",
       "    </tr>\n",
       "  </tbody>\n",
       "</table>\n",
       "</div>"
      ],
      "text/plain": [
       "           date           facility_x                           facility_id   \n",
       "2191 2023-08-26  NA-US-CO-DEN-Aurora  2019e0f4-7fd8-47fd-a858-9e5c4b409a39  \\\n",
       "2192 2023-08-26  NA-US-CO-DEN-Aurora  2019e0f4-7fd8-47fd-a858-9e5c4b409a39   \n",
       "\n",
       "      organization_name  subregion     gmv  orders  gmv_minus_discount   \n",
       "2191   abundant bicycle  Northwest  927.00      33              822.10  \\\n",
       "2192  optimistic flower  Northwest  927.03      29              857.11   \n",
       "\n",
       "         week_x    month_x           facility_y  hours_staffed   \n",
       "2191 2023-08-21 2023-08-01  NA-US-CO-DEN-Aurora            0.0  \\\n",
       "2192 2023-08-21 2023-08-01  NA-US-CO-DEN-Aurora            0.0   \n",
       "\n",
       "      daily_cr_labor_hours_allocation     week_y    month_y  labor_cost  \n",
       "2191                              0.0 2023-08-21 2023-08-01         0.0  \n",
       "2192                              0.0 2023-08-21 2023-08-01         0.0  "
      ]
     },
     "execution_count": 43,
     "metadata": {},
     "output_type": "execute_result"
    }
   ],
   "source": [
    "# WE HAVE FACILITIES IN CERTAIN DAYS , IN WHICH WE DIDN'T STAFFED ANY HOURS, BUT CHECKING THE \n",
    "# NUMBER OF ORDERS PER RESTAURANT, SEEMS TO BE OK\n",
    "\n",
    "data_all.loc[(data_all['date']=='2023-08-26')&(data_all['facility_x']=='NA-US-CO-DEN-Aurora')]"
   ]
  },
  {
   "cell_type": "code",
   "execution_count": 44,
   "metadata": {},
   "outputs": [
    {
     "data": {
      "text/plain": [
       "count    490.000000\n",
       "mean      22.502041\n",
       "std       34.694474\n",
       "min        1.000000\n",
       "25%        2.000000\n",
       "50%        9.000000\n",
       "75%       27.000000\n",
       "max      257.000000\n",
       "Name: orders, dtype: float64"
      ]
     },
     "execution_count": 44,
     "metadata": {},
     "output_type": "execute_result"
    }
   ],
   "source": [
    "# HERE WE CAN SUPPORT OUR PREVIOUS POINT EVEN BETTER\n",
    "data_all.loc[data_all['hours_staffed']==0]['orders'].describe()"
   ]
  },
  {
   "cell_type": "code",
   "execution_count": 74,
   "metadata": {},
   "outputs": [
    {
     "data": {
      "text/plain": [
       "(265, 18)"
      ]
     },
     "execution_count": 74,
     "metadata": {},
     "output_type": "execute_result"
    }
   ],
   "source": [
    "#At which facilities are we earning vs losing money considering labor costs and processing revenue? \n",
    "#And which days are not correctly staffed (understafffed or overstaffed)?\n",
    "\n",
    "data_facility = data_orders.loc[data_orders['date']<'2023-09-08'].groupby(['date','facility','facility_id'],\n",
    "                        as_index=False)[['orders','gmv','gmv_minus_discount']].sum()\n",
    "\n",
    "data_facility = pd.merge(data_facility, data_labor.drop(columns=['facility']), on=['date','facility_id'],how='left')\n",
    "\n",
    "data_facility.drop(columns=['daily_cr_labor_hours_allocation'], inplace=True)\n",
    "\n",
    "#data_facility['hours_staffed'] = data_facility['hours_staffed'].apply(lambda x : math.ceil(x))\n",
    "\n",
    "# THIS IS THE NUMBER OF ORDERS PROCESSED PER HOUR STAFFED AT EACH FACILITY\n",
    "data_facility['orders_processed_per_hour_staffed'] = np.where(data_facility['hours_staffed']==0,0,data_facility['orders']/data_facility['hours_staffed'])\n",
    "data_facility['orders_processed_per_hour_staffed'] = data_facility['orders_processed_per_hour_staffed'].apply(lambda x : math.ceil(x))\n",
    "\n",
    "# THIS IS THE AMOUNT OF HOURS WE SHOULD HAVE STAFFED CONSIDERING THE NUMBER OF ORDERS\n",
    "data_facility['expected_hours'] = data_facility['orders']/35\n",
    "#data_facility['expected_hours'] = data_facility['expected_hours'].apply(lambda x : math.ceil(x))\n",
    "\n",
    "data_facility['overstaffing_flag'] = np.where(data_facility.hours_staffed>data_facility.expected_hours,1,0)\n",
    "\n",
    "#data_facility['understaffing_flag'] = np.where((data_facility['hours_staffed']==0)&(data_facility['orders']>=35),1,0)\n",
    "\n",
    "data_facility['processing_revenue'] = data_facility['gmv']*0.04\n",
    "\n",
    "data_facility['net_revenue'] = data_facility['processing_revenue'] - data_facility['labor_cost']\n",
    "data_facility['expected_labor_cost'] = data_facility['expected_hours']*18\n",
    "data_facility['expected_net_revenue'] =data_facility['processing_revenue'] - data_facility['expected_labor_cost'] \n",
    "\n",
    "data_facility['loss_flag'] = np.where(data_facility['net_revenue']<0,1,0)\n",
    "\n",
    "data_facility.shape"
   ]
  },
  {
   "cell_type": "code",
   "execution_count": 75,
   "metadata": {},
   "outputs": [
    {
     "data": {
      "text/html": [
       "<div>\n",
       "<style scoped>\n",
       "    .dataframe tbody tr th:only-of-type {\n",
       "        vertical-align: middle;\n",
       "    }\n",
       "\n",
       "    .dataframe tbody tr th {\n",
       "        vertical-align: top;\n",
       "    }\n",
       "\n",
       "    .dataframe thead th {\n",
       "        text-align: right;\n",
       "    }\n",
       "</style>\n",
       "<table border=\"1\" class=\"dataframe\">\n",
       "  <thead>\n",
       "    <tr style=\"text-align: right;\">\n",
       "      <th></th>\n",
       "      <th>date</th>\n",
       "      <th>facility</th>\n",
       "      <th>facility_id</th>\n",
       "      <th>orders</th>\n",
       "      <th>gmv</th>\n",
       "      <th>gmv_minus_discount</th>\n",
       "      <th>hours_staffed</th>\n",
       "      <th>week</th>\n",
       "      <th>month</th>\n",
       "      <th>labor_cost</th>\n",
       "      <th>orders_processed_per_hour_staffed</th>\n",
       "      <th>expected_hours</th>\n",
       "      <th>overstaffing_flag</th>\n",
       "      <th>processing_revenue</th>\n",
       "      <th>net_revenue</th>\n",
       "      <th>expected_labor_cost</th>\n",
       "      <th>expected_net_revenue</th>\n",
       "      <th>loss_flag</th>\n",
       "    </tr>\n",
       "  </thead>\n",
       "  <tbody>\n",
       "    <tr>\n",
       "      <th>0</th>\n",
       "      <td>2023-08-01</td>\n",
       "      <td>NA-US-CA(N)-NH-Ruff (Kitchens)</td>\n",
       "      <td>905cbe43-327f-4d3e-a897-48ee81a64ade</td>\n",
       "      <td>154</td>\n",
       "      <td>5478.43</td>\n",
       "      <td>5322.32</td>\n",
       "      <td>29.483333</td>\n",
       "      <td>2023-07-31</td>\n",
       "      <td>2023-08-01</td>\n",
       "      <td>530.699994</td>\n",
       "      <td>6</td>\n",
       "      <td>4.400000</td>\n",
       "      <td>1</td>\n",
       "      <td>219.1372</td>\n",
       "      <td>-311.562794</td>\n",
       "      <td>79.200000</td>\n",
       "      <td>139.937200</td>\n",
       "      <td>1</td>\n",
       "    </tr>\n",
       "    <tr>\n",
       "      <th>1</th>\n",
       "      <td>2023-08-01</td>\n",
       "      <td>NA-US-IL-DUN-Avondale</td>\n",
       "      <td>54341152-da81-4b58-8ba3-8604bc1ff2dc</td>\n",
       "      <td>108</td>\n",
       "      <td>3297.44</td>\n",
       "      <td>2555.35</td>\n",
       "      <td>13.200000</td>\n",
       "      <td>2023-07-31</td>\n",
       "      <td>2023-08-01</td>\n",
       "      <td>237.600000</td>\n",
       "      <td>9</td>\n",
       "      <td>3.085714</td>\n",
       "      <td>1</td>\n",
       "      <td>131.8976</td>\n",
       "      <td>-105.702400</td>\n",
       "      <td>55.542857</td>\n",
       "      <td>76.354743</td>\n",
       "      <td>1</td>\n",
       "    </tr>\n",
       "    <tr>\n",
       "      <th>2</th>\n",
       "      <td>2023-08-01</td>\n",
       "      <td>NA-US-NG-OTT-Tempe (Kitchens) (correct)</td>\n",
       "      <td>a9eb0fc1-7699-43b4-bd4c-6bb5b8195a87</td>\n",
       "      <td>69</td>\n",
       "      <td>1949.61</td>\n",
       "      <td>1850.56</td>\n",
       "      <td>13.166667</td>\n",
       "      <td>2023-07-31</td>\n",
       "      <td>2023-08-01</td>\n",
       "      <td>237.000006</td>\n",
       "      <td>6</td>\n",
       "      <td>1.971429</td>\n",
       "      <td>1</td>\n",
       "      <td>77.9844</td>\n",
       "      <td>-159.015606</td>\n",
       "      <td>35.485714</td>\n",
       "      <td>42.498686</td>\n",
       "      <td>1</td>\n",
       "    </tr>\n",
       "    <tr>\n",
       "      <th>3</th>\n",
       "      <td>2023-08-01</td>\n",
       "      <td>NA-US-OD-5th (correct)</td>\n",
       "      <td>54d4375f-4c79-4444-ad83-f54362c08198</td>\n",
       "      <td>134</td>\n",
       "      <td>4088.62</td>\n",
       "      <td>3712.86</td>\n",
       "      <td>12.583333</td>\n",
       "      <td>2023-07-31</td>\n",
       "      <td>2023-08-01</td>\n",
       "      <td>226.499994</td>\n",
       "      <td>11</td>\n",
       "      <td>3.828571</td>\n",
       "      <td>1</td>\n",
       "      <td>163.5448</td>\n",
       "      <td>-62.955194</td>\n",
       "      <td>68.914286</td>\n",
       "      <td>94.630514</td>\n",
       "      <td>1</td>\n",
       "    </tr>\n",
       "    <tr>\n",
       "      <th>4</th>\n",
       "      <td>2023-08-01</td>\n",
       "      <td>NA-US-TUCS-SA-Lombrano (Correct)</td>\n",
       "      <td>ee395d7f-589b-4208-a745-90a8a0aa3bfd</td>\n",
       "      <td>12</td>\n",
       "      <td>286.02</td>\n",
       "      <td>266.02</td>\n",
       "      <td>8.066667</td>\n",
       "      <td>2023-07-31</td>\n",
       "      <td>2023-08-01</td>\n",
       "      <td>145.200006</td>\n",
       "      <td>2</td>\n",
       "      <td>0.342857</td>\n",
       "      <td>1</td>\n",
       "      <td>11.4408</td>\n",
       "      <td>-133.759206</td>\n",
       "      <td>6.171429</td>\n",
       "      <td>5.269371</td>\n",
       "      <td>1</td>\n",
       "    </tr>\n",
       "  </tbody>\n",
       "</table>\n",
       "</div>"
      ],
      "text/plain": [
       "        date                                 facility   \n",
       "0 2023-08-01           NA-US-CA(N)-NH-Ruff (Kitchens)  \\\n",
       "1 2023-08-01                    NA-US-IL-DUN-Avondale   \n",
       "2 2023-08-01  NA-US-NG-OTT-Tempe (Kitchens) (correct)   \n",
       "3 2023-08-01                   NA-US-OD-5th (correct)   \n",
       "4 2023-08-01         NA-US-TUCS-SA-Lombrano (Correct)   \n",
       "\n",
       "                            facility_id  orders      gmv  gmv_minus_discount   \n",
       "0  905cbe43-327f-4d3e-a897-48ee81a64ade     154  5478.43             5322.32  \\\n",
       "1  54341152-da81-4b58-8ba3-8604bc1ff2dc     108  3297.44             2555.35   \n",
       "2  a9eb0fc1-7699-43b4-bd4c-6bb5b8195a87      69  1949.61             1850.56   \n",
       "3  54d4375f-4c79-4444-ad83-f54362c08198     134  4088.62             3712.86   \n",
       "4  ee395d7f-589b-4208-a745-90a8a0aa3bfd      12   286.02              266.02   \n",
       "\n",
       "   hours_staffed       week      month  labor_cost   \n",
       "0      29.483333 2023-07-31 2023-08-01  530.699994  \\\n",
       "1      13.200000 2023-07-31 2023-08-01  237.600000   \n",
       "2      13.166667 2023-07-31 2023-08-01  237.000006   \n",
       "3      12.583333 2023-07-31 2023-08-01  226.499994   \n",
       "4       8.066667 2023-07-31 2023-08-01  145.200006   \n",
       "\n",
       "   orders_processed_per_hour_staffed  expected_hours  overstaffing_flag   \n",
       "0                                  6        4.400000                  1  \\\n",
       "1                                  9        3.085714                  1   \n",
       "2                                  6        1.971429                  1   \n",
       "3                                 11        3.828571                  1   \n",
       "4                                  2        0.342857                  1   \n",
       "\n",
       "   processing_revenue  net_revenue  expected_labor_cost  expected_net_revenue   \n",
       "0            219.1372  -311.562794            79.200000            139.937200  \\\n",
       "1            131.8976  -105.702400            55.542857             76.354743   \n",
       "2             77.9844  -159.015606            35.485714             42.498686   \n",
       "3            163.5448   -62.955194            68.914286             94.630514   \n",
       "4             11.4408  -133.759206             6.171429              5.269371   \n",
       "\n",
       "   loss_flag  \n",
       "0          1  \n",
       "1          1  \n",
       "2          1  \n",
       "3          1  \n",
       "4          1  "
      ]
     },
     "execution_count": 75,
     "metadata": {},
     "output_type": "execute_result"
    }
   ],
   "source": [
    "data_facility.head()"
   ]
  },
  {
   "cell_type": "code",
   "execution_count": 76,
   "metadata": {},
   "outputs": [],
   "source": [
    "data_facility.to_csv('data_facility.csv', index=False)"
   ]
  },
  {
   "cell_type": "code",
   "execution_count": 69,
   "metadata": {},
   "outputs": [
    {
     "data": {
      "text/plain": [
       "overstaffing_flag\n",
       "1    51.320755\n",
       "0    48.679245\n",
       "Name: proportion, dtype: float64"
      ]
     },
     "execution_count": 69,
     "metadata": {},
     "output_type": "execute_result"
    }
   ],
   "source": [
    "# HAVING THE ASSUMPTION THAT A RUNNER CAN PROCESS 35 ORDERS PER HOUR AND WE TAKE A LOOK PER DAY\n",
    "# WE ARE OVERSTAFFING IN A ~51% OF THE DAYS\n",
    "\n",
    "data_facility.overstaffing_flag.value_counts(1)*100"
   ]
  },
  {
   "cell_type": "code",
   "execution_count": 70,
   "metadata": {},
   "outputs": [
    {
     "data": {
      "text/plain": [
       "loss_flag\n",
       "0    79.245283\n",
       "1    20.754717\n",
       "Name: proportion, dtype: float64"
      ]
     },
     "execution_count": 70,
     "metadata": {},
     "output_type": "execute_result"
    }
   ],
   "source": [
    "# WE ARE LOOSING MONEY AT ~21% OF THE DAYS\n",
    "data_facility.loss_flag.value_counts(1)*100"
   ]
  }
 ],
 "metadata": {
  "kernelspec": {
   "display_name": "rappi",
   "language": "python",
   "name": "python3"
  },
  "language_info": {
   "codemirror_mode": {
    "name": "ipython",
    "version": 3
   },
   "file_extension": ".py",
   "mimetype": "text/x-python",
   "name": "python",
   "nbconvert_exporter": "python",
   "pygments_lexer": "ipython3",
   "version": "3.10.9"
  },
  "orig_nbformat": 4
 },
 "nbformat": 4,
 "nbformat_minor": 2
}
